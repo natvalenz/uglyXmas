{
 "cells": [
  {
   "cell_type": "markdown",
   "metadata": {},
   "source": [
    "## Naive Bayes Text"
   ]
  },
  {
   "cell_type": "code",
   "execution_count": 45,
   "metadata": {},
   "outputs": [],
   "source": [
    "df= pd.read_csv(\"uglyxmas.csv\")[[\"Category\", 'Auction Title', 'Description', 'Classification', \n",
    "                                 'FeatureBullet1','FeatureBullet2','FeatureBullet4','FeatureBullet5']]\n",
    "df['xXmas']=df['Auction Title']+\" \"+df['Description']+\" \"+df['Classification']+\" \"+df['FeatureBullet1']+\" \"+df['FeatureBullet2']+\" \"+df['FeatureBullet4']+\" \"+df['FeatureBullet5']\n",
    "df=df[df['xXmas'].str.len()>60]"
   ]
  },
  {
   "cell_type": "markdown",
   "metadata": {},
   "source": [
    "#### Data Preprocessing"
   ]
  },
  {
   "cell_type": "code",
   "execution_count": 46,
   "metadata": {},
   "outputs": [
    {
     "data": {
      "text/plain": [
       "\"Ugly Christmas Sweater Men's 3D Pop Out Reindeer Surprise Sweatshirt-2XL Item Features:<br><br>Materials: 60% Cotton/40% Acrylic<br>-Long Sleeve<br>-Crewneck<br>-3D Pop Out Ball On Fabric<br>-Ribbed Hem & Cuffs<br> Men's Sweater Materials: 60% Cotton/40% Acrylic Rudolph Pooping Candy Design On Fabric Machine Wash Only/Do Not Dry Clean Imported\""
      ]
     },
     "execution_count": 46,
     "metadata": {},
     "output_type": "execute_result"
    }
   ],
   "source": [
    "df['xXmas'][0]"
   ]
  },
  {
   "cell_type": "code",
   "execution_count": 47,
   "metadata": {},
   "outputs": [],
   "source": [
    "# a function that cleans text and removes stop words\n",
    "df['xXmas']=df['xXmas'].apply(clean, stopwords=sw)"
   ]
  },
  {
   "cell_type": "code",
   "execution_count": 48,
   "metadata": {},
   "outputs": [
    {
     "data": {
      "text/plain": [
       "\"ugly christmas sweater men's 3d pop reindeer surprise sweatshirt-2xl item features materials 60 acrylic long sleeve crewneck 3d pop ball fabric ribbed hem cuffs men's sweater materials 60 acrylic rudolph pooping candy design fabric machine wash dry clean imported\""
      ]
     },
     "execution_count": 48,
     "metadata": {},
     "output_type": "execute_result"
    }
   ],
   "source": [
    "df['xXmas'][0]"
   ]
  },
  {
   "cell_type": "code",
   "execution_count": 49,
   "metadata": {},
   "outputs": [
    {
     "data": {
      "text/html": [
       "<div>\n",
       "<style scoped>\n",
       "    .dataframe tbody tr th:only-of-type {\n",
       "        vertical-align: middle;\n",
       "    }\n",
       "\n",
       "    .dataframe tbody tr th {\n",
       "        vertical-align: top;\n",
       "    }\n",
       "\n",
       "    .dataframe thead th {\n",
       "        text-align: right;\n",
       "    }\n",
       "</style>\n",
       "<table border=\"1\" class=\"dataframe\">\n",
       "  <thead>\n",
       "    <tr style=\"text-align: right;\">\n",
       "      <th></th>\n",
       "      <th>Category</th>\n",
       "      <th>Auction Title</th>\n",
       "      <th>Description</th>\n",
       "      <th>Classification</th>\n",
       "      <th>FeatureBullet1</th>\n",
       "      <th>FeatureBullet2</th>\n",
       "      <th>FeatureBullet4</th>\n",
       "      <th>FeatureBullet5</th>\n",
       "      <th>xXmas</th>\n",
       "    </tr>\n",
       "  </thead>\n",
       "  <tbody>\n",
       "    <tr>\n",
       "      <th>0</th>\n",
       "      <td>Animal</td>\n",
       "      <td>Ugly Christmas Sweater Men's 3D Pop Out Reinde...</td>\n",
       "      <td>Item Features:&lt;br&gt;&lt;br&gt;Materials: 60% Cotton/40...</td>\n",
       "      <td>Men's Sweater</td>\n",
       "      <td>Materials: 60% Cotton/40% Acrylic</td>\n",
       "      <td>Rudolph Pooping Candy Design On Fabric</td>\n",
       "      <td>Machine Wash Only/Do Not Dry Clean</td>\n",
       "      <td>Imported</td>\n",
       "      <td>ugly christmas sweater men's 3d pop reindeer s...</td>\n",
       "    </tr>\n",
       "    <tr>\n",
       "      <th>1</th>\n",
       "      <td>Animal</td>\n",
       "      <td>Ugly Christmas Sweater Men's 3D Pop Out Reinde...</td>\n",
       "      <td>Item Features:&lt;br&gt;&lt;br&gt;Materials: 60% Cotton/40...</td>\n",
       "      <td>Men's Sweater</td>\n",
       "      <td>Materials: 60% Cotton/40% Acrylic</td>\n",
       "      <td>Rudolph Pooping Candy Design On Fabric</td>\n",
       "      <td>Machine Wash Only/Do Not Dry Clean</td>\n",
       "      <td>Imported</td>\n",
       "      <td>ugly christmas sweater men's 3d pop reindeer s...</td>\n",
       "    </tr>\n",
       "    <tr>\n",
       "      <th>2</th>\n",
       "      <td>Animal</td>\n",
       "      <td>Ugly Christmas Sweater Men's 3D Pop Out Reinde...</td>\n",
       "      <td>Item Features:&lt;br&gt;&lt;br&gt;Materials: 60% Cotton/40...</td>\n",
       "      <td>Men's Sweater</td>\n",
       "      <td>Materials: 60% Cotton/40% Acrylic</td>\n",
       "      <td>Rudolph Pooping Candy Design On Fabric</td>\n",
       "      <td>Machine Wash Only/Do Not Dry Clean</td>\n",
       "      <td>Imported</td>\n",
       "      <td>ugly christmas sweater men's 3d pop reindeer s...</td>\n",
       "    </tr>\n",
       "    <tr>\n",
       "      <th>3</th>\n",
       "      <td>Animal</td>\n",
       "      <td>Ugly Christmas Sweater Men's 3D Pop Out Reinde...</td>\n",
       "      <td>Item Features:&lt;br&gt;&lt;br&gt;Materials: 60% Cotton/40...</td>\n",
       "      <td>Men's Sweater</td>\n",
       "      <td>Materials: 60% Cotton/40% Acrylic</td>\n",
       "      <td>Rudolph Pooping Candy Design On Fabric</td>\n",
       "      <td>Machine Wash Only/Do Not Dry Clean</td>\n",
       "      <td>Imported</td>\n",
       "      <td>ugly christmas sweater men's 3d pop reindeer s...</td>\n",
       "    </tr>\n",
       "    <tr>\n",
       "      <th>4</th>\n",
       "      <td>Animal</td>\n",
       "      <td>Ugly Christmas Sweater Men's 3D Pop Out Reinde...</td>\n",
       "      <td>Item Features:&lt;br&gt;&lt;br&gt;Materials: 60% Cotton/40...</td>\n",
       "      <td>Men's Sweater</td>\n",
       "      <td>Materials: 60% Cotton/40% Acrylic</td>\n",
       "      <td>Rudolph Pooping Candy Design On Fabric</td>\n",
       "      <td>Machine Wash Only/Do Not Dry Clean</td>\n",
       "      <td>Imported</td>\n",
       "      <td>ugly christmas sweater men's 3d pop reindeer s...</td>\n",
       "    </tr>\n",
       "    <tr>\n",
       "      <th>...</th>\n",
       "      <td>...</td>\n",
       "      <td>...</td>\n",
       "      <td>...</td>\n",
       "      <td>...</td>\n",
       "      <td>...</td>\n",
       "      <td>...</td>\n",
       "      <td>...</td>\n",
       "      <td>...</td>\n",
       "      <td>...</td>\n",
       "    </tr>\n",
       "    <tr>\n",
       "      <th>449</th>\n",
       "      <td>Pun</td>\n",
       "      <td>Ugly Christmas Sweater Men's Yo Ho Ho Santa Su...</td>\n",
       "      <td>Item Features:&lt;br&gt;&lt;br&gt;Materials: 60% Cotton/40...</td>\n",
       "      <td>Men's Sweater</td>\n",
       "      <td>Materials: 60% Cotton/40% Acrylic</td>\n",
       "      <td>Santa Wearing Sunglasses Design On Fabric</td>\n",
       "      <td>Machine Wash Only/Do Not Dry Clean</td>\n",
       "      <td>Imported</td>\n",
       "      <td>ugly christmas sweater men's yo ho ho santa su...</td>\n",
       "    </tr>\n",
       "    <tr>\n",
       "      <th>450</th>\n",
       "      <td>Pun</td>\n",
       "      <td>Ugly Christmas Sweater Men's Yo Ho Ho Santa Su...</td>\n",
       "      <td>Item Features:&lt;br&gt;&lt;br&gt;Materials: 60% Cotton/40...</td>\n",
       "      <td>Men's Sweater</td>\n",
       "      <td>Materials: 60% Cotton/40% Acrylic</td>\n",
       "      <td>Santa Wearing Sunglasses Design On Fabric</td>\n",
       "      <td>Machine Wash Only/Do Not Dry Clean</td>\n",
       "      <td>Imported</td>\n",
       "      <td>ugly christmas sweater men's yo ho ho santa su...</td>\n",
       "    </tr>\n",
       "    <tr>\n",
       "      <th>451</th>\n",
       "      <td>Pun</td>\n",
       "      <td>Ugly Christmas Sweater Men's Yo Ho Ho Santa Su...</td>\n",
       "      <td>Item Features:&lt;br&gt;&lt;br&gt;Materials: 60% Cotton/40...</td>\n",
       "      <td>Men's Sweater</td>\n",
       "      <td>Materials: 60% Cotton/40% Acrylic</td>\n",
       "      <td>Santa Wearing Sunglasses Design On Fabric</td>\n",
       "      <td>Machine Wash Only/Do Not Dry Clean</td>\n",
       "      <td>Imported</td>\n",
       "      <td>ugly christmas sweater men's yo ho ho santa su...</td>\n",
       "    </tr>\n",
       "    <tr>\n",
       "      <th>452</th>\n",
       "      <td>Pun</td>\n",
       "      <td>Ugly Christmas Sweater Men's Yo Ho Ho Santa Su...</td>\n",
       "      <td>Item Features:&lt;br&gt;&lt;br&gt;Materials: 60% Cotton/40...</td>\n",
       "      <td>Men's Sweater</td>\n",
       "      <td>Materials: 60% Cotton/40% Acrylic</td>\n",
       "      <td>Santa Wearing Sunglasses Design On Fabric</td>\n",
       "      <td>Machine Wash Only/Do Not Dry Clean</td>\n",
       "      <td>Imported</td>\n",
       "      <td>ugly christmas sweater men's yo ho ho santa su...</td>\n",
       "    </tr>\n",
       "    <tr>\n",
       "      <th>453</th>\n",
       "      <td>Pun</td>\n",
       "      <td>Ugly Christmas Sweater Men's Yo Ho Ho Santa Su...</td>\n",
       "      <td>Item Features:&lt;br&gt;&lt;br&gt;Materials: 60% Cotton/40...</td>\n",
       "      <td>Men's Sweater</td>\n",
       "      <td>Materials: 60% Cotton/40% Acrylic</td>\n",
       "      <td>Santa Wearing Sunglasses Design On Fabric</td>\n",
       "      <td>Machine Wash Only/Do Not Dry Clean</td>\n",
       "      <td>Imported</td>\n",
       "      <td>ugly christmas sweater men's yo ho ho santa su...</td>\n",
       "    </tr>\n",
       "  </tbody>\n",
       "</table>\n",
       "<p>407 rows × 9 columns</p>\n",
       "</div>"
      ],
      "text/plain": [
       "    Category                                      Auction Title  \\\n",
       "0     Animal  Ugly Christmas Sweater Men's 3D Pop Out Reinde...   \n",
       "1     Animal  Ugly Christmas Sweater Men's 3D Pop Out Reinde...   \n",
       "2     Animal  Ugly Christmas Sweater Men's 3D Pop Out Reinde...   \n",
       "3     Animal  Ugly Christmas Sweater Men's 3D Pop Out Reinde...   \n",
       "4     Animal  Ugly Christmas Sweater Men's 3D Pop Out Reinde...   \n",
       "..       ...                                                ...   \n",
       "449      Pun  Ugly Christmas Sweater Men's Yo Ho Ho Santa Su...   \n",
       "450      Pun  Ugly Christmas Sweater Men's Yo Ho Ho Santa Su...   \n",
       "451      Pun  Ugly Christmas Sweater Men's Yo Ho Ho Santa Su...   \n",
       "452      Pun  Ugly Christmas Sweater Men's Yo Ho Ho Santa Su...   \n",
       "453      Pun  Ugly Christmas Sweater Men's Yo Ho Ho Santa Su...   \n",
       "\n",
       "                                           Description Classification  \\\n",
       "0    Item Features:<br><br>Materials: 60% Cotton/40...  Men's Sweater   \n",
       "1    Item Features:<br><br>Materials: 60% Cotton/40...  Men's Sweater   \n",
       "2    Item Features:<br><br>Materials: 60% Cotton/40...  Men's Sweater   \n",
       "3    Item Features:<br><br>Materials: 60% Cotton/40...  Men's Sweater   \n",
       "4    Item Features:<br><br>Materials: 60% Cotton/40...  Men's Sweater   \n",
       "..                                                 ...            ...   \n",
       "449  Item Features:<br><br>Materials: 60% Cotton/40...  Men's Sweater   \n",
       "450  Item Features:<br><br>Materials: 60% Cotton/40...  Men's Sweater   \n",
       "451  Item Features:<br><br>Materials: 60% Cotton/40...  Men's Sweater   \n",
       "452  Item Features:<br><br>Materials: 60% Cotton/40...  Men's Sweater   \n",
       "453  Item Features:<br><br>Materials: 60% Cotton/40...  Men's Sweater   \n",
       "\n",
       "                        FeatureBullet1  \\\n",
       "0    Materials: 60% Cotton/40% Acrylic   \n",
       "1    Materials: 60% Cotton/40% Acrylic   \n",
       "2    Materials: 60% Cotton/40% Acrylic   \n",
       "3    Materials: 60% Cotton/40% Acrylic   \n",
       "4    Materials: 60% Cotton/40% Acrylic   \n",
       "..                                 ...   \n",
       "449  Materials: 60% Cotton/40% Acrylic   \n",
       "450  Materials: 60% Cotton/40% Acrylic   \n",
       "451  Materials: 60% Cotton/40% Acrylic   \n",
       "452  Materials: 60% Cotton/40% Acrylic   \n",
       "453  Materials: 60% Cotton/40% Acrylic   \n",
       "\n",
       "                                FeatureBullet2  \\\n",
       "0       Rudolph Pooping Candy Design On Fabric   \n",
       "1       Rudolph Pooping Candy Design On Fabric   \n",
       "2       Rudolph Pooping Candy Design On Fabric   \n",
       "3       Rudolph Pooping Candy Design On Fabric   \n",
       "4       Rudolph Pooping Candy Design On Fabric   \n",
       "..                                         ...   \n",
       "449  Santa Wearing Sunglasses Design On Fabric   \n",
       "450  Santa Wearing Sunglasses Design On Fabric   \n",
       "451  Santa Wearing Sunglasses Design On Fabric   \n",
       "452  Santa Wearing Sunglasses Design On Fabric   \n",
       "453  Santa Wearing Sunglasses Design On Fabric   \n",
       "\n",
       "                         FeatureBullet4 FeatureBullet5  \\\n",
       "0    Machine Wash Only/Do Not Dry Clean       Imported   \n",
       "1    Machine Wash Only/Do Not Dry Clean       Imported   \n",
       "2    Machine Wash Only/Do Not Dry Clean       Imported   \n",
       "3    Machine Wash Only/Do Not Dry Clean       Imported   \n",
       "4    Machine Wash Only/Do Not Dry Clean       Imported   \n",
       "..                                  ...            ...   \n",
       "449  Machine Wash Only/Do Not Dry Clean       Imported   \n",
       "450  Machine Wash Only/Do Not Dry Clean       Imported   \n",
       "451  Machine Wash Only/Do Not Dry Clean       Imported   \n",
       "452  Machine Wash Only/Do Not Dry Clean       Imported   \n",
       "453  Machine Wash Only/Do Not Dry Clean       Imported   \n",
       "\n",
       "                                                 xXmas  \n",
       "0    ugly christmas sweater men's 3d pop reindeer s...  \n",
       "1    ugly christmas sweater men's 3d pop reindeer s...  \n",
       "2    ugly christmas sweater men's 3d pop reindeer s...  \n",
       "3    ugly christmas sweater men's 3d pop reindeer s...  \n",
       "4    ugly christmas sweater men's 3d pop reindeer s...  \n",
       "..                                                 ...  \n",
       "449  ugly christmas sweater men's yo ho ho santa su...  \n",
       "450  ugly christmas sweater men's yo ho ho santa su...  \n",
       "451  ugly christmas sweater men's yo ho ho santa su...  \n",
       "452  ugly christmas sweater men's yo ho ho santa su...  \n",
       "453  ugly christmas sweater men's yo ho ho santa su...  \n",
       "\n",
       "[407 rows x 9 columns]"
      ]
     },
     "execution_count": 49,
     "metadata": {},
     "output_type": "execute_result"
    }
   ],
   "source": [
    "df=df[df['xXmas'].str.len()>60]\n",
    "df"
   ]
  },
  {
   "cell_type": "code",
   "execution_count": 50,
   "metadata": {},
   "outputs": [],
   "source": [
    "yXmas=df[\"Category\"]\n",
    "xXmas=df['xXmas']"
   ]
  },
  {
   "cell_type": "markdown",
   "metadata": {},
   "source": [
    "#### Split the data"
   ]
  },
  {
   "cell_type": "code",
   "execution_count": 51,
   "metadata": {},
   "outputs": [
    {
     "name": "stdout",
     "output_type": "stream",
     "text": [
      "X_train shape:  (284,)\n",
      "X_test shape:  (123,)\n",
      "y_train shape:  (284,)\n",
      "y_test shape:  (123,)\n"
     ]
    }
   ],
   "source": [
    "X_train, X_test, y_train, y_test = train_test_split(xXmas, yXmas, test_size=0.30, random_state=42)\n",
    "print(\"X_train shape: \",X_train.shape)\n",
    "print(\"X_test shape: \",X_test.shape)\n",
    "print(\"y_train shape: \",y_train.shape)\n",
    "print(\"y_test shape: \",y_test.shape)"
   ]
  },
  {
   "cell_type": "markdown",
   "metadata": {},
   "source": [
    "#### Transform Text Data to Feature Vectors"
   ]
  },
  {
   "cell_type": "code",
   "execution_count": 52,
   "metadata": {},
   "outputs": [],
   "source": [
    "tfidf= TfidfVectorizer(ngram_range=(1,2), stop_words='english', min_df=10)\n",
    "X_train_tfidf=tfidf.fit_transform(X_train)\n",
    "X_test_tfidf=tfidf.transform(X_test)"
   ]
  },
  {
   "cell_type": "markdown",
   "metadata": {},
   "source": [
    "#### Train the Model"
   ]
  },
  {
   "cell_type": "code",
   "execution_count": 53,
   "metadata": {},
   "outputs": [
    {
     "data": {
      "text/plain": [
       "0.5528169014084507"
      ]
     },
     "execution_count": 53,
     "metadata": {},
     "output_type": "execute_result"
    }
   ],
   "source": [
    "# construct and fit model\n",
    "multiNB=MultinomialNB()\n",
    "multiNB=multiNB.fit(X_train_tfidf, y_train)\n",
    "# make prediction on training set\n",
    "y_train_pred=multiNB.predict(X_train_tfidf)\n",
    "# compute accuracy on training set\n",
    "multiNB.score(X_train_tfidf, y_train)"
   ]
  },
  {
   "cell_type": "markdown",
   "metadata": {},
   "source": [
    "#### Model Evaluation"
   ]
  },
  {
   "cell_type": "code",
   "execution_count": 54,
   "metadata": {},
   "outputs": [
    {
     "data": {
      "text/plain": [
       "0.6016260162601627"
      ]
     },
     "execution_count": 54,
     "metadata": {},
     "output_type": "execute_result"
    }
   ],
   "source": [
    "y_test_pred=multiNB.predict(X_test_tfidf)\n",
    "multiNB.score(X_test_tfidf, y_test)"
   ]
  },
  {
   "cell_type": "markdown",
   "metadata": {},
   "source": [
    "#### Cross Validation"
   ]
  },
  {
   "cell_type": "code",
   "execution_count": 55,
   "metadata": {},
   "outputs": [
    {
     "name": "stderr",
     "output_type": "stream",
     "text": [
      "C:\\ProgramData\\Anaconda3\\lib\\site-packages\\sklearn\\model_selection\\_split.py:670: UserWarning: The least populated class in y has only 3 members, which is less than n_splits=5.\n",
      "  warnings.warn((\"The least populated class in y has only %d\"\n"
     ]
    },
    {
     "data": {
      "text/plain": [
       "0.5174185463659148"
      ]
     },
     "execution_count": 55,
     "metadata": {},
     "output_type": "execute_result"
    }
   ],
   "source": [
    "scores= cross_val_score(estimator=MultinomialNB(), X=X_train_tfidf, y=y_train, cv=5)\n",
    "scores.mean()"
   ]
  },
  {
   "cell_type": "code",
   "execution_count": 56,
   "metadata": {},
   "outputs": [
    {
     "data": {
      "text/plain": [
       "0.05217067553528399"
      ]
     },
     "execution_count": 56,
     "metadata": {},
     "output_type": "execute_result"
    }
   ],
   "source": [
    "scores.std()"
   ]
  },
  {
   "cell_type": "markdown",
   "metadata": {},
   "source": [
    "#### Grid Search Cross Validation"
   ]
  },
  {
   "cell_type": "code",
   "execution_count": 57,
   "metadata": {},
   "outputs": [
    {
     "data": {
      "text/plain": [
       "{'analyzer': 'word',\n",
       " 'binary': False,\n",
       " 'decode_error': 'strict',\n",
       " 'dtype': numpy.float64,\n",
       " 'encoding': 'utf-8',\n",
       " 'input': 'content',\n",
       " 'lowercase': True,\n",
       " 'max_df': 1.0,\n",
       " 'max_features': None,\n",
       " 'min_df': 10,\n",
       " 'ngram_range': (1, 2),\n",
       " 'norm': 'l2',\n",
       " 'preprocessor': None,\n",
       " 'smooth_idf': True,\n",
       " 'stop_words': 'english',\n",
       " 'strip_accents': None,\n",
       " 'sublinear_tf': False,\n",
       " 'token_pattern': '(?u)\\\\b\\\\w\\\\w+\\\\b',\n",
       " 'tokenizer': None,\n",
       " 'use_idf': True,\n",
       " 'vocabulary': None}"
      ]
     },
     "execution_count": 57,
     "metadata": {},
     "output_type": "execute_result"
    }
   ],
   "source": [
    "# check hyperparameters that can be optimized\n",
    "tfidf.get_params()"
   ]
  },
  {
   "cell_type": "code",
   "execution_count": 58,
   "metadata": {},
   "outputs": [
    {
     "name": "stderr",
     "output_type": "stream",
     "text": [
      "C:\\ProgramData\\Anaconda3\\lib\\site-packages\\sklearn\\model_selection\\_split.py:670: UserWarning: The least populated class in y has only 3 members, which is less than n_splits=5.\n",
      "  warnings.warn((\"The least populated class in y has only %d\"\n"
     ]
    },
    {
     "data": {
      "text/plain": [
       "{'tfidf__min_df': 5,\n",
       " 'tfidf__ngram_range': (1, 1),\n",
       " 'tfidf__norm': 'l2',\n",
       " 'tfidf__smooth_idf': False}"
      ]
     },
     "execution_count": 58,
     "metadata": {},
     "output_type": "execute_result"
    }
   ],
   "source": [
    "pipe = Pipeline([(\"tfidf\", TfidfVectorizer(stop_words='english')), \n",
    "                 (\"multiNB\", MultinomialNB())])\n",
    "\n",
    "param_grid= {\"tfidf__min_df\":[5,20],\n",
    "             'tfidf__ngram_range':[(1,1), (1,2), (1,3),(1,5),(2,2)], \n",
    "             'tfidf__smooth_idf':[True, False], \n",
    "             'tfidf__norm':['l1', 'l2']}\n",
    "\n",
    "grid_search= GridSearchCV(estimator=pipe, param_grid=param_grid, cv=5)\n",
    "grid_search.fit(X_train, y_train)\n",
    "# find best hyperparameter values\n",
    "grid_search.best_params_"
   ]
  },
  {
   "cell_type": "code",
   "execution_count": 59,
   "metadata": {},
   "outputs": [
    {
     "data": {
      "text/plain": [
       "0.6584507042253521"
      ]
     },
     "execution_count": 59,
     "metadata": {},
     "output_type": "execute_result"
    }
   ],
   "source": [
    "# training accuracy\n",
    "grid_search.score(X_train,y_train)"
   ]
  },
  {
   "cell_type": "code",
   "execution_count": 60,
   "metadata": {},
   "outputs": [
    {
     "data": {
      "text/plain": [
       "0.6178861788617886"
      ]
     },
     "execution_count": 60,
     "metadata": {},
     "output_type": "execute_result"
    }
   ],
   "source": [
    "# test accuracy\n",
    "grid_search.score(X_test,y_test)"
   ]
  },
  {
   "cell_type": "markdown",
   "metadata": {},
   "source": [
    "### Report"
   ]
  },
  {
   "cell_type": "markdown",
   "metadata": {},
   "source": [
    "#### Research Question\n",
    "Is Naïve Bayes a good model for predicting sweater category based on their title, description, classification, and feature bullets?\n",
    "\n",
    "#### Model\n",
    "Multinomial Naïve Bayes algorithm is used for text classification.\n",
    "\n",
    "#### Problem\n",
    "The category of a sweater is manually entered. To save time a Multinomial Naïve Bayes model based on some text variables will be applied to determine the category it belongs to. \n",
    "\n",
    "##### Output Variable\n",
    "Categories: Animal, Pop culture, Religious, Pun, Costume, Alcohol, Gay Pride, Sports, Vehicle, Naughty, and Skull.\n",
    "##### Input Variable\n",
    "Title, description, classification, and feature bullets.\n",
    "\n",
    "#### Model Evaluation\n",
    "Training Accuracy = 55%\n",
    "Testing Accuracy  = 60%\n",
    "\n",
    "The low training accuracy score indicates possible underfitting of the data. The model appears to be predicting test cases better than the training instances. \n",
    "\n",
    "#### Hyperparameter Tune\n",
    "Best Hyperparameters:\n",
    "'tfidf__min_df': 5,\n",
    "'tfidf__ngram_range': (1, 1),\n",
    "'tfidf__norm': 'l2',\n",
    "'tfidf__smooth_idf': False\n",
    "\n",
    "#### Conclusion\n",
    "After tuning the hyperparameters a higher overall prediction is observed for training and testing data, but it is inconclusive if this score is high enough. The new scores appear to not have overfitting. Multinomial Naïve Bayes algorithm is great for text classification, but for this particular problem additional information or instances are needed. Until a better model is built the categories need to be entered manually. \n"
   ]
  },
  {
   "cell_type": "code",
   "execution_count": null,
   "metadata": {},
   "outputs": [],
   "source": []
  }
 ],
 "metadata": {
  "kernelspec": {
   "display_name": "Python 3",
   "language": "python",
   "name": "python3"
  },
  "language_info": {
   "codemirror_mode": {
    "name": "ipython",
    "version": 3
   },
   "file_extension": ".py",
   "mimetype": "text/x-python",
   "name": "python",
   "nbconvert_exporter": "python",
   "pygments_lexer": "ipython3",
   "version": "3.8.5"
  }
 },
 "nbformat": 4,
 "nbformat_minor": 4
}
